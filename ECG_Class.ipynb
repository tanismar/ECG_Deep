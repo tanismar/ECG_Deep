{
 "cells": [
  {
   "cell_type": "code",
   "execution_count": 4,
   "metadata": {},
   "outputs": [],
   "source": [
    "%reload_ext autoreload\n",
    "%autoreload 2\n",
    "%matplotlib inline"
   ]
  },
  {
   "cell_type": "markdown",
   "metadata": {},
   "source": [
    "Based on the WFDB to read databased: https://wfdb.readthedocs.io/en/latest/io.html"
   ]
  },
  {
   "cell_type": "code",
   "execution_count": 1,
   "metadata": {},
   "outputs": [],
   "source": [
    "import numpy as np\n",
    "import matplotlib\n",
    "matplotlib.use('Agg')\n",
    "import matplotlib.pyplot as plt\n",
    "import sys, os\n",
    "import wfdb\n",
    "import pywt"
   ]
  },
  {
   "cell_type": "code",
   "execution_count": 2,
   "metadata": {},
   "outputs": [],
   "source": [
    "from collections import Counter\n",
    "from PIL import Image\n",
    "from PIL import ImageOps"
   ]
  },
  {
   "cell_type": "markdown",
   "metadata": {},
   "source": [
    "Download the MIT-BIH database using the WFDB to read databased: https://wfdb.readthedocs.io/en/latest/io.html"
   ]
  },
  {
   "cell_type": "markdown",
   "metadata": {},
   "source": [
    "DATABASE DOWNLOAD\n",
    "========"
   ]
  },
  {
   "cell_type": "code",
   "execution_count": 3,
   "metadata": {},
   "outputs": [
    {
     "name": "stdout",
     "output_type": "stream",
     "text": [
      "Downloading files...\n",
      "Finished downloading files\n"
     ]
    }
   ],
   "source": [
    "wfdb.io.dl_database('mitdb', './mitbih')"
   ]
  },
  {
   "cell_type": "markdown",
   "metadata": {},
   "source": [
    "Plot a record to observe the raw data"
   ]
  },
  {
   "cell_type": "code",
   "execution_count": 18,
   "metadata": {},
   "outputs": [],
   "source": [
    "record = wfdb.io.rdrecord('./100', sampto=3000)\n",
    "annotation = wfdb.io.rdann('./100', 'atr', sampto=3000)"
   ]
  },
  {
   "cell_type": "code",
   "execution_count": 21,
   "metadata": {},
   "outputs": [
    {
     "data": {
      "image/png": "[encoded data removed]",
      "text/plain": [
       "<Figure size 432x288 with 2 Axes>"
      ]
     },
     "metadata": {
      "needs_background": "light"
     },
     "output_type": "display_data"
    }
   ],
   "source": [
    "wfdb.plot_wfdb(record=record, annotation=annotation)"
   ]
  },
  {
   "cell_type": "markdown",
   "metadata": {},
   "source": [
    "The following code to transform MIT-BIH annotation data into 2D images is based on the https://github.com/Lorne0/ECG_Deep, mainly from the  preprocess_2D.py function in that code."
   ]
  },
  {
   "cell_type": "code",
   "execution_count": 4,
   "metadata": {},
   "outputs": [],
   "source": [
    "data_names_DS1 = ['101','106', '108', '109', '112', '114', '115', '116', \n",
    "                  '118', '119', '122', '124', '201', '203', '205', '207',\n",
    "                  '208', '209', '215', '220', '223', '230']\n",
    "data_names_DS2 = ['100', '103', '105', '111', '113', '117', '121', '123',\n",
    "                  '200', '202', '210', '212', '213', '214', '219', '221', \n",
    "                  '222', '228', '231', '232', '233', '234']"
   ]
  },
  {
   "cell_type": "code",
   "execution_count": null,
   "metadata": {},
   "outputs": [],
   "source": [
    "labels = ['N', 'S', 'V', 'F', 'Q']\n",
    "sub_labels = ['N', 'L', 'R', 'e', 'j', 'A', 'a', 'J', 'S', 'V', 'E', 'F', '/', 'f', 'Q']\n",
    "sub = {'N':'N', 'L':'N', 'R':'N', 'e':'N', 'j':'N', \n",
    "        'A':'S', 'a':'S', 'J':'S', 'S':'S',\n",
    "        'V':'V', 'E':'V',\n",
    "        'F':'F',\n",
    "        '/':'Q', 'f':'Q', 'Q':'Q'}"
   ]
  },
  {
   "cell_type": "markdown",
   "metadata": {},
   "source": [
    "The data division above has been proposed for inter-patient analysis on the following paper (so that heartbeats from the same patient are not part of training and testing sets): \n",
    "\n",
    "*Mar, T., Zaunseder, S., Mart&#x00ED;nez, J. P., Llamedo, M., & Poll, R. (2011)*. **Optimization of ECG Classification by Means of Feature Selection**. *IEEE Transactions on Biomedical Engineering, 58, 2168–2177.* https://doi.org/10.1109/TBME.2011.2113395"
   ]
  },
  {
   "cell_type": "markdown",
   "metadata": {},
   "source": [
    "Let's read the dataset from the mentioned datasets (this should be run twice, with DS1 and DS2):"
   ]
  },
  {
   "cell_type": "code",
   "execution_count": 7,
   "metadata": {},
   "outputs": [],
   "source": [
    "X = []\n",
    "Y = []\n",
    "for d in data_names_DS2:\n",
    "    r=wfdb.rdrecord('./mitbih/'+d)\n",
    "    ann=wfdb.rdann('./mitbih/'+d, 'atr', return_label_elements=['label_store', 'symbol'])        \n",
    "    sig = np.array(r.p_signal[:,0])\n",
    "    sig_len = len(sig)\n",
    "    sym = ann.symbol        \n",
    "    pos = ann.sample\n",
    "    beat_len = len(sym)\n",
    "    for i in range(1,beat_len-1):\n",
    "        if sym[i] in sub_labels: \n",
    "            if (pos[i]-pos[i-1])>200 and (pos[i+1]-pos[i])>200:\n",
    "                a = sig[pos[i]-150:pos[i]+150]\n",
    "                a, cD3, cD2, cD1 = pywt.wavedec(a, 'db6', level=3)\n",
    "                X.append(a)\n",
    "                Y.append(labels.index(sub[sym[i]]))"
   ]
  },
  {
   "cell_type": "code",
   "execution_count": 8,
   "metadata": {},
   "outputs": [
    {
     "name": "stdout",
     "output_type": "stream",
     "text": [
      "(39473, 47)\n",
      "(39473,)\n",
      "Counter({0: 37332, 1: 1438, 2: 617, 3: 81, 4: 5})\n",
      "(39473, 47)\n",
      "Counter({0: 37332, 1: 1438, 2: 617, 3: 81, 4: 5})\n"
     ]
    }
   ],
   "source": [
    "X = np.array(X)\n",
    "Y = np.array(Y)\n",
    "print(X.shape)\n",
    "print(Y.shape)\n",
    "print(Counter(Y))\n",
    "\n",
    "_X_train = X\n",
    "Y_train = Y\n",
    "\n",
    "print(_X_train.shape)\n",
    "print(Counter(Y_train))"
   ]
  },
  {
   "cell_type": "markdown",
   "metadata": {},
   "source": [
    "# Change 1D signal to 2D image"
   ]
  },
  {
   "cell_type": "code",
   "execution_count": null,
   "metadata": {},
   "outputs": [],
   "source": [
    "# Change 1D signal to 2D image\n",
    "x = list(range(X.shape[1]))\n",
    "cnt = 0\n",
    "\n",
    "X_train = None\n",
    "for i in range(len(_X_train)):\n",
    "    a = _X_train[i]\n",
    "    plt.clf()\n",
    "    plt.figure(figsize=(2.24,2.24), dpi= 100)   # So the output has size 224 x 224 pixels\n",
    "    plt.plot(x,a)    \n",
    "    plt.axis('off')\n",
    "    fn =  labels[Y[i]]+str(i)+'.png'    \n",
    "    plt.savefig('./DS2/'+labels[Y[i]]+'/'+fn)    \n",
    "    plt.close()\n",
    "    cnt += 1\n",
    "    if cnt%1000==0:\n",
    "        print(cnt)"
   ]
  },
  {
   "cell_type": "markdown",
   "metadata": {},
   "source": [
    "# CLASSIFY DATASET"
   ]
  },
  {
   "cell_type": "markdown",
   "metadata": {},
   "source": [
    "Run rom here if the dataset is already downloaded"
   ]
  },
  {
   "cell_type": "code",
   "execution_count": 11,
   "metadata": {},
   "outputs": [],
   "source": [
    "from fastai import *\n",
    "from fastai.vision import *"
   ]
  },
  {
   "cell_type": "code",
   "execution_count": 25,
   "metadata": {},
   "outputs": [
    {
     "data": {
      "text/plain": [
       "<fastai.vision.data.ImageDataBunch at 0x7f1375c8b828>"
      ]
     },
     "execution_count": 25,
     "metadata": {},
     "output_type": "execute_result"
    }
   ],
   "source": [
    "path = '/home/tanis/repos/ECG_Deep/'\n",
    "tfms = get_transforms(do_flip=False)\n",
    "data = ImageDataBunch.from_folder(path, ds_tfms=tfms, size=224)\n",
    "data.normalize(mnist_stats)"
   ]
  },
  {
   "cell_type": "code",
   "execution_count": 36,
   "metadata": {},
   "outputs": [
    {
     "data": {
      "text/plain": [
       "'/home/tanis/repos/ECG_Deep/'"
      ]
     },
     "execution_count": 36,
     "metadata": {},
     "output_type": "execute_result"
    }
   ],
   "source": [
    "path"
   ]
  },
  {
   "cell_type": "code",
   "execution_count": 32,
   "metadata": {},
   "outputs": [
    {
     "name": "stderr",
     "output_type": "stream",
     "text": [
      "Clipping input data to the valid range for imshow with RGB data ([0..1] for floats or [0..255] for integers).\n"
     ]
    }
   ],
   "source": [
    "data.show_batch(rows=3)"
   ]
  },
  {
   "cell_type": "code",
   "execution_count": 30,
   "metadata": {},
   "outputs": [
    {
     "name": "stdout",
     "output_type": "stream",
     "text": [
      "['F', 'N', 'Q', 'S', 'V']\n"
     ]
    },
    {
     "data": {
      "text/plain": [
       "(5, 5)"
      ]
     },
     "execution_count": 30,
     "metadata": {},
     "output_type": "execute_result"
    }
   ],
   "source": [
    "print(data.classes)\n",
    "len(data.classes),data.c"
   ]
  },
  {
   "cell_type": "code",
   "execution_count": 34,
   "metadata": {},
   "outputs": [],
   "source": [
    "learn = create_cnn(data, models.resnet34, metrics=error_rate)"
   ]
  },
  {
   "cell_type": "code",
   "execution_count": null,
   "metadata": {},
   "outputs": [],
   "source": []
  }
 ],
 "metadata": {
  "kernelspec": {
   "display_name": "Python 3",
   "language": "python",
   "name": "python3"
  },
  "language_info": {
   "codemirror_mode": {
    "name": "ipython",
    "version": 3
   },
   "file_extension": ".py",
   "mimetype": "text/x-python",
   "name": "python",
   "nbconvert_exporter": "python",
   "pygments_lexer": "ipython3",
   "version": "3.7.0"
  }
 },
 "nbformat": 4,
 "nbformat_minor": 2
}
